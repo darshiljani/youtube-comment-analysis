{
 "cells": [
  {
   "cell_type": "code",
   "execution_count": 1,
   "metadata": {},
   "outputs": [],
   "source": [
    "import os\n",
    "import numpy as np # linear algebra\n",
    "import pandas as pd # data processing, CSV file I/O (e.g. pd.read_csv)\n",
    "import os\n",
    "import scipy\n",
    "\n",
    "\n",
    "import warnings\n",
    "warnings.filterwarnings(\"ignore\")"
   ]
  },
  {
   "cell_type": "code",
   "execution_count": 2,
   "metadata": {},
   "outputs": [],
   "source": [
    "from textblob import TextBlob\n",
    "from sklearn import metrics\n",
    "from mlxtend.plotting import plot_confusion_matrix"
   ]
  },
  {
   "cell_type": "code",
   "execution_count": 3,
   "metadata": {},
   "outputs": [],
   "source": [
    "data = pd.read_csv(\"Dataset.csv\")"
   ]
  },
  {
   "cell_type": "code",
   "execution_count": 4,
   "metadata": {},
   "outputs": [
    {
     "data": {
      "text/html": [
       "<div>\n",
       "<style scoped>\n",
       "    .dataframe tbody tr th:only-of-type {\n",
       "        vertical-align: middle;\n",
       "    }\n",
       "\n",
       "    .dataframe tbody tr th {\n",
       "        vertical-align: top;\n",
       "    }\n",
       "\n",
       "    .dataframe thead th {\n",
       "        text-align: right;\n",
       "    }\n",
       "</style>\n",
       "<table border=\"1\" class=\"dataframe\">\n",
       "  <thead>\n",
       "    <tr style=\"text-align: right;\">\n",
       "      <th></th>\n",
       "      <th>Video ID</th>\n",
       "      <th>Comment ID</th>\n",
       "      <th>comments</th>\n",
       "    </tr>\n",
       "  </thead>\n",
       "  <tbody>\n",
       "    <tr>\n",
       "      <th>0</th>\n",
       "      <td>H5UlTdyQTng</td>\n",
       "      <td>Ugz04ohUyyJPi7hzYe94AaABAg</td>\n",
       "      <td>Girl  on  the  left  at  0  49  This  was  her...</td>\n",
       "    </tr>\n",
       "    <tr>\n",
       "      <th>1</th>\n",
       "      <td>H5UlTdyQTng</td>\n",
       "      <td>UgwWWWvsO96ZqznTSLh4AaABAg</td>\n",
       "      <td>The  Oxford  vaccine  is  using  another  vacc...</td>\n",
       "    </tr>\n",
       "    <tr>\n",
       "      <th>2</th>\n",
       "      <td>H5UlTdyQTng</td>\n",
       "      <td>Ugy5uxxtnhyCltlyvxV4AaABAg</td>\n",
       "      <td>How  is  this  even  possible  when  there  ha...</td>\n",
       "    </tr>\n",
       "    <tr>\n",
       "      <th>3</th>\n",
       "      <td>H5UlTdyQTng</td>\n",
       "      <td>UgxnnPf68FvG3qneSLN4AaABAg</td>\n",
       "      <td>Do  not  be  a  guinea  pig  and  certainly  d...</td>\n",
       "    </tr>\n",
       "    <tr>\n",
       "      <th>4</th>\n",
       "      <td>H5UlTdyQTng</td>\n",
       "      <td>UgyYYNEwDpM3RUDEPqR4AaABAg</td>\n",
       "      <td>Yeah  no  thanks    23  years  old  and  perfe...</td>\n",
       "    </tr>\n",
       "  </tbody>\n",
       "</table>\n",
       "</div>"
      ],
      "text/plain": [
       "      Video ID                  Comment ID  \\\n",
       "0  H5UlTdyQTng  Ugz04ohUyyJPi7hzYe94AaABAg   \n",
       "1  H5UlTdyQTng  UgwWWWvsO96ZqznTSLh4AaABAg   \n",
       "2  H5UlTdyQTng  Ugy5uxxtnhyCltlyvxV4AaABAg   \n",
       "3  H5UlTdyQTng  UgxnnPf68FvG3qneSLN4AaABAg   \n",
       "4  H5UlTdyQTng  UgyYYNEwDpM3RUDEPqR4AaABAg   \n",
       "\n",
       "                                            comments  \n",
       "0  Girl  on  the  left  at  0  49  This  was  her...  \n",
       "1  The  Oxford  vaccine  is  using  another  vacc...  \n",
       "2  How  is  this  even  possible  when  there  ha...  \n",
       "3  Do  not  be  a  guinea  pig  and  certainly  d...  \n",
       "4  Yeah  no  thanks    23  years  old  and  perfe...  "
      ]
     },
     "execution_count": 4,
     "metadata": {},
     "output_type": "execute_result"
    }
   ],
   "source": [
    "data.head()"
   ]
  },
  {
   "cell_type": "code",
   "execution_count": 5,
   "metadata": {},
   "outputs": [
    {
     "data": {
      "text/plain": [
       "(56, 3)"
      ]
     },
     "execution_count": 5,
     "metadata": {},
     "output_type": "execute_result"
    }
   ],
   "source": [
    "data.shape"
   ]
  },
  {
   "cell_type": "code",
   "execution_count": 6,
   "metadata": {},
   "outputs": [],
   "source": [
    "data['polarity'] = data['comments'].apply(lambda x: TextBlob(x).sentiment.polarity)"
   ]
  },
  {
   "cell_type": "code",
   "execution_count": 7,
   "metadata": {},
   "outputs": [
    {
     "data": {
      "text/html": [
       "<div>\n",
       "<style scoped>\n",
       "    .dataframe tbody tr th:only-of-type {\n",
       "        vertical-align: middle;\n",
       "    }\n",
       "\n",
       "    .dataframe tbody tr th {\n",
       "        vertical-align: top;\n",
       "    }\n",
       "\n",
       "    .dataframe thead th {\n",
       "        text-align: right;\n",
       "    }\n",
       "</style>\n",
       "<table border=\"1\" class=\"dataframe\">\n",
       "  <thead>\n",
       "    <tr style=\"text-align: right;\">\n",
       "      <th></th>\n",
       "      <th>Video ID</th>\n",
       "      <th>Comment ID</th>\n",
       "      <th>comments</th>\n",
       "      <th>polarity</th>\n",
       "    </tr>\n",
       "  </thead>\n",
       "  <tbody>\n",
       "    <tr>\n",
       "      <th>0</th>\n",
       "      <td>H5UlTdyQTng</td>\n",
       "      <td>Ugz04ohUyyJPi7hzYe94AaABAg</td>\n",
       "      <td>Girl  on  the  left  at  0  49  This  was  her...</td>\n",
       "      <td>0.000000</td>\n",
       "    </tr>\n",
       "    <tr>\n",
       "      <th>1</th>\n",
       "      <td>H5UlTdyQTng</td>\n",
       "      <td>UgwWWWvsO96ZqznTSLh4AaABAg</td>\n",
       "      <td>The  Oxford  vaccine  is  using  another  vacc...</td>\n",
       "      <td>0.000000</td>\n",
       "    </tr>\n",
       "    <tr>\n",
       "      <th>2</th>\n",
       "      <td>H5UlTdyQTng</td>\n",
       "      <td>Ugy5uxxtnhyCltlyvxV4AaABAg</td>\n",
       "      <td>How  is  this  even  possible  when  there  ha...</td>\n",
       "      <td>-0.300000</td>\n",
       "    </tr>\n",
       "    <tr>\n",
       "      <th>3</th>\n",
       "      <td>H5UlTdyQTng</td>\n",
       "      <td>UgxnnPf68FvG3qneSLN4AaABAg</td>\n",
       "      <td>Do  not  be  a  guinea  pig  and  certainly  d...</td>\n",
       "      <td>-0.107143</td>\n",
       "    </tr>\n",
       "    <tr>\n",
       "      <th>4</th>\n",
       "      <td>H5UlTdyQTng</td>\n",
       "      <td>UgyYYNEwDpM3RUDEPqR4AaABAg</td>\n",
       "      <td>Yeah  no  thanks    23  years  old  and  perfe...</td>\n",
       "      <td>0.166667</td>\n",
       "    </tr>\n",
       "  </tbody>\n",
       "</table>\n",
       "</div>"
      ],
      "text/plain": [
       "      Video ID                  Comment ID  \\\n",
       "0  H5UlTdyQTng  Ugz04ohUyyJPi7hzYe94AaABAg   \n",
       "1  H5UlTdyQTng  UgwWWWvsO96ZqznTSLh4AaABAg   \n",
       "2  H5UlTdyQTng  Ugy5uxxtnhyCltlyvxV4AaABAg   \n",
       "3  H5UlTdyQTng  UgxnnPf68FvG3qneSLN4AaABAg   \n",
       "4  H5UlTdyQTng  UgyYYNEwDpM3RUDEPqR4AaABAg   \n",
       "\n",
       "                                            comments  polarity  \n",
       "0  Girl  on  the  left  at  0  49  This  was  her...  0.000000  \n",
       "1  The  Oxford  vaccine  is  using  another  vacc...  0.000000  \n",
       "2  How  is  this  even  possible  when  there  ha... -0.300000  \n",
       "3  Do  not  be  a  guinea  pig  and  certainly  d... -0.107143  \n",
       "4  Yeah  no  thanks    23  years  old  and  perfe...  0.166667  "
      ]
     },
     "execution_count": 7,
     "metadata": {},
     "output_type": "execute_result"
    }
   ],
   "source": [
    "data.head()"
   ]
  },
  {
   "cell_type": "code",
   "execution_count": 8,
   "metadata": {},
   "outputs": [],
   "source": [
    "data = data.sample(frac=1).reset_index(drop=True)"
   ]
  },
  {
   "cell_type": "code",
   "execution_count": 9,
   "metadata": {},
   "outputs": [],
   "source": [
    "data['pol_cat']  = 0"
   ]
  },
  {
   "cell_type": "code",
   "execution_count": 10,
   "metadata": {},
   "outputs": [],
   "source": [
    "# data['pol_cat'][data.polarity == 0] = 0\n",
    "data['pol_cat'][data.polarity > 0] = 1\n",
    "data['pol_cat'][data.polarity <= 0] = -1"
   ]
  },
  {
   "cell_type": "code",
   "execution_count": 11,
   "metadata": {},
   "outputs": [
    {
     "data": {
      "text/html": [
       "<div>\n",
       "<style scoped>\n",
       "    .dataframe tbody tr th:only-of-type {\n",
       "        vertical-align: middle;\n",
       "    }\n",
       "\n",
       "    .dataframe tbody tr th {\n",
       "        vertical-align: top;\n",
       "    }\n",
       "\n",
       "    .dataframe thead th {\n",
       "        text-align: right;\n",
       "    }\n",
       "</style>\n",
       "<table border=\"1\" class=\"dataframe\">\n",
       "  <thead>\n",
       "    <tr style=\"text-align: right;\">\n",
       "      <th></th>\n",
       "      <th>Video ID</th>\n",
       "      <th>Comment ID</th>\n",
       "      <th>comments</th>\n",
       "      <th>polarity</th>\n",
       "      <th>pol_cat</th>\n",
       "    </tr>\n",
       "  </thead>\n",
       "  <tbody>\n",
       "    <tr>\n",
       "      <th>0</th>\n",
       "      <td>H5UlTdyQTng</td>\n",
       "      <td>UgxNGmG2cno9nsBFxc94AaABAg</td>\n",
       "      <td>GOT  IT</td>\n",
       "      <td>0.0</td>\n",
       "      <td>-1</td>\n",
       "    </tr>\n",
       "    <tr>\n",
       "      <th>1</th>\n",
       "      <td>H5UlTdyQTng</td>\n",
       "      <td>UgyWhBPnvqKEpT2iVfl4AaABAg</td>\n",
       "      <td>Don  t  let  them  vaccinate  you    they  re ...</td>\n",
       "      <td>0.0</td>\n",
       "      <td>-1</td>\n",
       "    </tr>\n",
       "    <tr>\n",
       "      <th>2</th>\n",
       "      <td>H5UlTdyQTng</td>\n",
       "      <td>UgwO59GW5HF-5b2-U-94AaABAg</td>\n",
       "      <td>This  video  is  a  sigh  of  relief</td>\n",
       "      <td>0.0</td>\n",
       "      <td>-1</td>\n",
       "    </tr>\n",
       "    <tr>\n",
       "      <th>3</th>\n",
       "      <td>H5UlTdyQTng</td>\n",
       "      <td>UgxKKJ7WQs3r_s9r6d94AaABAg</td>\n",
       "      <td>When  is  our  government  going  to  show  pr...</td>\n",
       "      <td>0.0</td>\n",
       "      <td>-1</td>\n",
       "    </tr>\n",
       "    <tr>\n",
       "      <th>4</th>\n",
       "      <td>H5UlTdyQTng</td>\n",
       "      <td>Ugxq83Fxhcu-cOjRcRN4AaABAg</td>\n",
       "      <td>Like  the  Flu  vaccine  eradicated  Flu</td>\n",
       "      <td>0.0</td>\n",
       "      <td>-1</td>\n",
       "    </tr>\n",
       "  </tbody>\n",
       "</table>\n",
       "</div>"
      ],
      "text/plain": [
       "      Video ID                  Comment ID  \\\n",
       "0  H5UlTdyQTng  UgxNGmG2cno9nsBFxc94AaABAg   \n",
       "1  H5UlTdyQTng  UgyWhBPnvqKEpT2iVfl4AaABAg   \n",
       "2  H5UlTdyQTng  UgwO59GW5HF-5b2-U-94AaABAg   \n",
       "3  H5UlTdyQTng  UgxKKJ7WQs3r_s9r6d94AaABAg   \n",
       "4  H5UlTdyQTng  Ugxq83Fxhcu-cOjRcRN4AaABAg   \n",
       "\n",
       "                                            comments  polarity  pol_cat  \n",
       "0                                            GOT  IT       0.0       -1  \n",
       "1  Don  t  let  them  vaccinate  you    they  re ...       0.0       -1  \n",
       "2         This  video  is  a  sigh  of  relief             0.0       -1  \n",
       "3  When  is  our  government  going  to  show  pr...       0.0       -1  \n",
       "4       Like  the  Flu  vaccine  eradicated  Flu           0.0       -1  "
      ]
     },
     "execution_count": 11,
     "metadata": {},
     "output_type": "execute_result"
    }
   ],
   "source": [
    "data.head()"
   ]
  },
  {
   "cell_type": "code",
   "execution_count": 12,
   "metadata": {},
   "outputs": [
    {
     "data": {
      "text/plain": [
       "-1    39\n",
       " 1    17\n",
       "Name: pol_cat, dtype: int64"
      ]
     },
     "execution_count": 12,
     "metadata": {},
     "output_type": "execute_result"
    }
   ],
   "source": [
    "data['pol_cat'].value_counts()"
   ]
  },
  {
   "cell_type": "code",
   "execution_count": 13,
   "metadata": {},
   "outputs": [],
   "source": [
    "data_pos = data[data['pol_cat'] == 1]\n",
    "data_pos = data_pos.reset_index(drop = True)\n",
    "\n",
    "data_neg = data[data['pol_cat'] == -1]\n",
    "data_neg = data_neg.reset_index(drop = True)\n",
    "\n",
    "# data_neutral = data[data['pol_cat'] == 0]\n",
    "# data_neutral = data_neutral.reset_index(drop = True)"
   ]
  },
  {
   "cell_type": "code",
   "execution_count": 14,
   "metadata": {},
   "outputs": [
    {
     "data": {
      "text/html": [
       "<div>\n",
       "<style scoped>\n",
       "    .dataframe tbody tr th:only-of-type {\n",
       "        vertical-align: middle;\n",
       "    }\n",
       "\n",
       "    .dataframe tbody tr th {\n",
       "        vertical-align: top;\n",
       "    }\n",
       "\n",
       "    .dataframe thead th {\n",
       "        text-align: right;\n",
       "    }\n",
       "</style>\n",
       "<table border=\"1\" class=\"dataframe\">\n",
       "  <thead>\n",
       "    <tr style=\"text-align: right;\">\n",
       "      <th></th>\n",
       "      <th>Video ID</th>\n",
       "      <th>Comment ID</th>\n",
       "      <th>comments</th>\n",
       "      <th>polarity</th>\n",
       "      <th>pol_cat</th>\n",
       "    </tr>\n",
       "  </thead>\n",
       "  <tbody>\n",
       "    <tr>\n",
       "      <th>0</th>\n",
       "      <td>H5UlTdyQTng</td>\n",
       "      <td>UgxyHaXNyPqKKoo9tOR4AaABAg</td>\n",
       "      <td>Is  vaccine  ready          Plss  tell  me</td>\n",
       "      <td>0.200000</td>\n",
       "      <td>1</td>\n",
       "    </tr>\n",
       "    <tr>\n",
       "      <th>1</th>\n",
       "      <td>H5UlTdyQTng</td>\n",
       "      <td>UgzIhbhtRLQSwbGPM2R4AaABAg</td>\n",
       "      <td>I  am  the  first  liker</td>\n",
       "      <td>0.250000</td>\n",
       "      <td>1</td>\n",
       "    </tr>\n",
       "    <tr>\n",
       "      <th>2</th>\n",
       "      <td>H5UlTdyQTng</td>\n",
       "      <td>UgxJUf-Qr5tHnuR50uN4AaABAg</td>\n",
       "      <td>Beast  system  starts  in  Briton  have  fun  ...</td>\n",
       "      <td>0.300000</td>\n",
       "      <td>1</td>\n",
       "    </tr>\n",
       "    <tr>\n",
       "      <th>3</th>\n",
       "      <td>H5UlTdyQTng</td>\n",
       "      <td>UgyYYNEwDpM3RUDEPqR4AaABAg</td>\n",
       "      <td>Yeah  no  thanks    23  years  old  and  perfe...</td>\n",
       "      <td>0.166667</td>\n",
       "      <td>1</td>\n",
       "    </tr>\n",
       "    <tr>\n",
       "      <th>4</th>\n",
       "      <td>H5UlTdyQTng</td>\n",
       "      <td>UgwWjheNUyD5cuW2yvJ4AaABAg</td>\n",
       "      <td>If  you  want  to  take  the  vaccine  then  t...</td>\n",
       "      <td>0.333333</td>\n",
       "      <td>1</td>\n",
       "    </tr>\n",
       "  </tbody>\n",
       "</table>\n",
       "</div>"
      ],
      "text/plain": [
       "      Video ID                  Comment ID  \\\n",
       "0  H5UlTdyQTng  UgxyHaXNyPqKKoo9tOR4AaABAg   \n",
       "1  H5UlTdyQTng  UgzIhbhtRLQSwbGPM2R4AaABAg   \n",
       "2  H5UlTdyQTng  UgxJUf-Qr5tHnuR50uN4AaABAg   \n",
       "3  H5UlTdyQTng  UgyYYNEwDpM3RUDEPqR4AaABAg   \n",
       "4  H5UlTdyQTng  UgwWjheNUyD5cuW2yvJ4AaABAg   \n",
       "\n",
       "                                            comments  polarity  pol_cat  \n",
       "0         Is  vaccine  ready          Plss  tell  me  0.200000        1  \n",
       "1                         I  am  the  first  liker    0.250000        1  \n",
       "2  Beast  system  starts  in  Briton  have  fun  ...  0.300000        1  \n",
       "3  Yeah  no  thanks    23  years  old  and  perfe...  0.166667        1  \n",
       "4  If  you  want  to  take  the  vaccine  then  t...  0.333333        1  "
      ]
     },
     "execution_count": 14,
     "metadata": {},
     "output_type": "execute_result"
    }
   ],
   "source": [
    "data_pos.head()"
   ]
  },
  {
   "cell_type": "code",
   "execution_count": 15,
   "metadata": {},
   "outputs": [
    {
     "data": {
      "text/plain": [
       "(17, 5)"
      ]
     },
     "execution_count": 15,
     "metadata": {},
     "output_type": "execute_result"
    }
   ],
   "source": [
    "data_pos.shape"
   ]
  },
  {
   "cell_type": "code",
   "execution_count": 16,
   "metadata": {},
   "outputs": [
    {
     "data": {
      "text/html": [
       "<div>\n",
       "<style scoped>\n",
       "    .dataframe tbody tr th:only-of-type {\n",
       "        vertical-align: middle;\n",
       "    }\n",
       "\n",
       "    .dataframe tbody tr th {\n",
       "        vertical-align: top;\n",
       "    }\n",
       "\n",
       "    .dataframe thead th {\n",
       "        text-align: right;\n",
       "    }\n",
       "</style>\n",
       "<table border=\"1\" class=\"dataframe\">\n",
       "  <thead>\n",
       "    <tr style=\"text-align: right;\">\n",
       "      <th></th>\n",
       "      <th>Video ID</th>\n",
       "      <th>Comment ID</th>\n",
       "      <th>comments</th>\n",
       "      <th>polarity</th>\n",
       "      <th>pol_cat</th>\n",
       "    </tr>\n",
       "  </thead>\n",
       "  <tbody>\n",
       "    <tr>\n",
       "      <th>0</th>\n",
       "      <td>H5UlTdyQTng</td>\n",
       "      <td>UgxNGmG2cno9nsBFxc94AaABAg</td>\n",
       "      <td>GOT  IT</td>\n",
       "      <td>0.0</td>\n",
       "      <td>-1</td>\n",
       "    </tr>\n",
       "    <tr>\n",
       "      <th>1</th>\n",
       "      <td>H5UlTdyQTng</td>\n",
       "      <td>UgyWhBPnvqKEpT2iVfl4AaABAg</td>\n",
       "      <td>Don  t  let  them  vaccinate  you    they  re ...</td>\n",
       "      <td>0.0</td>\n",
       "      <td>-1</td>\n",
       "    </tr>\n",
       "    <tr>\n",
       "      <th>2</th>\n",
       "      <td>H5UlTdyQTng</td>\n",
       "      <td>UgwO59GW5HF-5b2-U-94AaABAg</td>\n",
       "      <td>This  video  is  a  sigh  of  relief</td>\n",
       "      <td>0.0</td>\n",
       "      <td>-1</td>\n",
       "    </tr>\n",
       "    <tr>\n",
       "      <th>3</th>\n",
       "      <td>H5UlTdyQTng</td>\n",
       "      <td>UgxKKJ7WQs3r_s9r6d94AaABAg</td>\n",
       "      <td>When  is  our  government  going  to  show  pr...</td>\n",
       "      <td>0.0</td>\n",
       "      <td>-1</td>\n",
       "    </tr>\n",
       "    <tr>\n",
       "      <th>4</th>\n",
       "      <td>H5UlTdyQTng</td>\n",
       "      <td>Ugxq83Fxhcu-cOjRcRN4AaABAg</td>\n",
       "      <td>Like  the  Flu  vaccine  eradicated  Flu</td>\n",
       "      <td>0.0</td>\n",
       "      <td>-1</td>\n",
       "    </tr>\n",
       "  </tbody>\n",
       "</table>\n",
       "</div>"
      ],
      "text/plain": [
       "      Video ID                  Comment ID  \\\n",
       "0  H5UlTdyQTng  UgxNGmG2cno9nsBFxc94AaABAg   \n",
       "1  H5UlTdyQTng  UgyWhBPnvqKEpT2iVfl4AaABAg   \n",
       "2  H5UlTdyQTng  UgwO59GW5HF-5b2-U-94AaABAg   \n",
       "3  H5UlTdyQTng  UgxKKJ7WQs3r_s9r6d94AaABAg   \n",
       "4  H5UlTdyQTng  Ugxq83Fxhcu-cOjRcRN4AaABAg   \n",
       "\n",
       "                                            comments  polarity  pol_cat  \n",
       "0                                            GOT  IT       0.0       -1  \n",
       "1  Don  t  let  them  vaccinate  you    they  re ...       0.0       -1  \n",
       "2         This  video  is  a  sigh  of  relief             0.0       -1  \n",
       "3  When  is  our  government  going  to  show  pr...       0.0       -1  \n",
       "4       Like  the  Flu  vaccine  eradicated  Flu           0.0       -1  "
      ]
     },
     "execution_count": 16,
     "metadata": {},
     "output_type": "execute_result"
    }
   ],
   "source": [
    "data_neg.head()"
   ]
  },
  {
   "cell_type": "code",
   "execution_count": 17,
   "metadata": {},
   "outputs": [
    {
     "data": {
      "text/plain": [
       "\"They've  lied  to  us  about  the  numbers  of  covid  deaths    it  has  been  proven    And  even  with  their  lies  it  is  not  that  high  of  a  death  percentage    There's  no  way  on  earth  that  the  people  will  just  lie  down  and  take  it    Only  the  mindless  sheep  \""
      ]
     },
     "execution_count": 17,
     "metadata": {},
     "output_type": "execute_result"
    }
   ],
   "source": [
    "data_neg['comments'][15]"
   ]
  },
  {
   "cell_type": "code",
   "execution_count": 18,
   "metadata": {},
   "outputs": [
    {
     "data": {
      "text/plain": [
       "-1    39\n",
       " 1    17\n",
       "Name: pol_cat, dtype: int64"
      ]
     },
     "execution_count": 18,
     "metadata": {},
     "output_type": "execute_result"
    },
    {
     "data": {
      "image/png": "[encoded data removed]",
      "text/plain": [
       "<Figure size 432x288 with 1 Axes>"
      ]
     },
     "metadata": {
      "needs_background": "light"
     },
     "output_type": "display_data"
    }
   ],
   "source": [
    "data.pol_cat.value_counts().plot.bar()\n",
    "data.pol_cat.value_counts()"
   ]
  },
  {
   "cell_type": "code",
   "execution_count": 19,
   "metadata": {},
   "outputs": [],
   "source": [
    "data['comments'] = data['comments'].str.lower()"
   ]
  },
  {
   "cell_type": "code",
   "execution_count": 20,
   "metadata": {},
   "outputs": [
    {
     "data": {
      "text/plain": [
       "0                                              got  it\n",
       "1    don  t  let  them  vaccinate  you    they  re ...\n",
       "2           this  video  is  a  sigh  of  relief      \n",
       "3    when  is  our  government  going  to  show  pr...\n",
       "4         like  the  flu  vaccine  eradicated  flu    \n",
       "Name: comments, dtype: object"
      ]
     },
     "execution_count": 20,
     "metadata": {},
     "output_type": "execute_result"
    }
   ],
   "source": [
    "data['comments'].head()"
   ]
  },
  {
   "cell_type": "code",
   "execution_count": 21,
   "metadata": {},
   "outputs": [
    {
     "data": {
      "text/html": [
       "<div>\n",
       "<style scoped>\n",
       "    .dataframe tbody tr th:only-of-type {\n",
       "        vertical-align: middle;\n",
       "    }\n",
       "\n",
       "    .dataframe tbody tr th {\n",
       "        vertical-align: top;\n",
       "    }\n",
       "\n",
       "    .dataframe thead th {\n",
       "        text-align: right;\n",
       "    }\n",
       "</style>\n",
       "<table border=\"1\" class=\"dataframe\">\n",
       "  <thead>\n",
       "    <tr style=\"text-align: right;\">\n",
       "      <th></th>\n",
       "      <th>polarity</th>\n",
       "      <th>pol_cat</th>\n",
       "    </tr>\n",
       "  </thead>\n",
       "  <tbody>\n",
       "    <tr>\n",
       "      <th>count</th>\n",
       "      <td>56.000000</td>\n",
       "      <td>56.000000</td>\n",
       "    </tr>\n",
       "    <tr>\n",
       "      <th>mean</th>\n",
       "      <td>0.016250</td>\n",
       "      <td>-0.392857</td>\n",
       "    </tr>\n",
       "    <tr>\n",
       "      <th>std</th>\n",
       "      <td>0.213017</td>\n",
       "      <td>0.927922</td>\n",
       "    </tr>\n",
       "    <tr>\n",
       "      <th>min</th>\n",
       "      <td>-0.500000</td>\n",
       "      <td>-1.000000</td>\n",
       "    </tr>\n",
       "    <tr>\n",
       "      <th>25%</th>\n",
       "      <td>-0.033750</td>\n",
       "      <td>-1.000000</td>\n",
       "    </tr>\n",
       "    <tr>\n",
       "      <th>50%</th>\n",
       "      <td>0.000000</td>\n",
       "      <td>-1.000000</td>\n",
       "    </tr>\n",
       "    <tr>\n",
       "      <th>75%</th>\n",
       "      <td>0.122991</td>\n",
       "      <td>1.000000</td>\n",
       "    </tr>\n",
       "    <tr>\n",
       "      <th>max</th>\n",
       "      <td>0.800000</td>\n",
       "      <td>1.000000</td>\n",
       "    </tr>\n",
       "  </tbody>\n",
       "</table>\n",
       "</div>"
      ],
      "text/plain": [
       "        polarity    pol_cat\n",
       "count  56.000000  56.000000\n",
       "mean    0.016250  -0.392857\n",
       "std     0.213017   0.927922\n",
       "min    -0.500000  -1.000000\n",
       "25%    -0.033750  -1.000000\n",
       "50%     0.000000  -1.000000\n",
       "75%     0.122991   1.000000\n",
       "max     0.800000   1.000000"
      ]
     },
     "execution_count": 21,
     "metadata": {},
     "output_type": "execute_result"
    }
   ],
   "source": [
    "data.describe()"
   ]
  },
  {
   "cell_type": "code",
   "execution_count": 22,
   "metadata": {},
   "outputs": [
    {
     "name": "stdout",
     "output_type": "stream",
     "text": [
      "<class 'pandas.core.frame.DataFrame'>\n",
      "RangeIndex: 56 entries, 0 to 55\n",
      "Data columns (total 5 columns):\n",
      " #   Column      Non-Null Count  Dtype  \n",
      "---  ------      --------------  -----  \n",
      " 0   Video ID    56 non-null     object \n",
      " 1   Comment ID  56 non-null     object \n",
      " 2   comments    56 non-null     object \n",
      " 3   polarity    56 non-null     float64\n",
      " 4   pol_cat     56 non-null     int64  \n",
      "dtypes: float64(1), int64(1), object(3)\n",
      "memory usage: 2.3+ KB\n"
     ]
    }
   ],
   "source": [
    "data.info()"
   ]
  },
  {
   "cell_type": "code",
   "execution_count": 23,
   "metadata": {},
   "outputs": [
    {
     "data": {
      "text/plain": [
       "'got  it'"
      ]
     },
     "execution_count": 23,
     "metadata": {},
     "output_type": "execute_result"
    }
   ],
   "source": [
    "data['comments'][0]"
   ]
  },
  {
   "cell_type": "code",
   "execution_count": 24,
   "metadata": {},
   "outputs": [
    {
     "data": {
      "text/plain": [
       "'got  it'"
      ]
     },
     "execution_count": 24,
     "metadata": {},
     "output_type": "execute_result"
    }
   ],
   "source": [
    "data['comments'][0].strip()"
   ]
  },
  {
   "cell_type": "code",
   "execution_count": 25,
   "metadata": {},
   "outputs": [
    {
     "name": "stderr",
     "output_type": "stream",
     "text": [
      "[nltk_data] Downloading package stopwords to\n",
      "[nltk_data]     C:\\Users\\Asus\\AppData\\Roaming\\nltk_data...\n",
      "[nltk_data]   Package stopwords is already up-to-date!\n"
     ]
    },
    {
     "data": {
      "text/plain": [
       "True"
      ]
     },
     "execution_count": 25,
     "metadata": {},
     "output_type": "execute_result"
    }
   ],
   "source": [
    "import nltk\n",
    "nltk.download(\"stopwords\")"
   ]
  },
  {
   "cell_type": "code",
   "execution_count": 26,
   "metadata": {},
   "outputs": [
    {
     "name": "stderr",
     "output_type": "stream",
     "text": [
      "[nltk_data] Downloading package punkt to\n",
      "[nltk_data]     C:\\Users\\Asus\\AppData\\Roaming\\nltk_data...\n",
      "[nltk_data]   Package punkt is already up-to-date!\n"
     ]
    },
    {
     "data": {
      "text/plain": [
       "True"
      ]
     },
     "execution_count": 26,
     "metadata": {},
     "output_type": "execute_result"
    }
   ],
   "source": [
    "nltk.download(\"punkt\")"
   ]
  },
  {
   "cell_type": "code",
   "execution_count": 27,
   "metadata": {},
   "outputs": [],
   "source": [
    "from nltk.corpus import stopwords\n",
    "from nltk import word_tokenize\n",
    "import string\n",
    "import re\n",
    "import nltk"
   ]
  },
  {
   "cell_type": "code",
   "execution_count": 28,
   "metadata": {},
   "outputs": [
    {
     "name": "stdout",
     "output_type": "stream",
     "text": [
      "['i', 'me', 'my', 'myself', 'we', 'our', 'ours', 'ourselves', 'you', \"you're\", \"you've\", \"you'll\", \"you'd\", 'your', 'yours', 'yourself', 'yourselves', 'he', 'him', 'his', 'himself', 'she', \"she's\", 'her', 'hers', 'herself', 'it', \"it's\", 'its', 'itself', 'they', 'them', 'their', 'theirs', 'themselves', 'what', 'which', 'who', 'whom', 'this', 'that', \"that'll\", 'these', 'those', 'am', 'is', 'are', 'was', 'were', 'be', 'been', 'being', 'have', 'has', 'had', 'having', 'do', 'does', 'did', 'doing', 'a', 'an', 'the', 'and', 'but', 'if', 'or', 'because', 'as', 'until', 'while', 'of', 'at', 'by', 'for', 'with', 'about', 'against', 'between', 'into', 'through', 'during', 'before', 'after', 'above', 'below', 'to', 'from', 'up', 'down', 'in', 'out', 'on', 'off', 'over', 'under', 'again', 'further', 'then', 'once', 'here', 'there', 'when', 'where', 'why', 'how', 'all', 'any', 'both', 'each', 'few', 'more', 'most', 'other', 'some', 'such', 'no', 'nor', 'not', 'only', 'own', 'same', 'so', 'than', 'too', 'very', 's', 't', 'can', 'will', 'just', 'don', \"don't\", 'should', \"should've\", 'now', 'd', 'll', 'm', 'o', 're', 've', 'y', 'ain', 'aren', \"aren't\", 'couldn', \"couldn't\", 'didn', \"didn't\", 'doesn', \"doesn't\", 'hadn', \"hadn't\", 'hasn', \"hasn't\", 'haven', \"haven't\", 'isn', \"isn't\", 'ma', 'mightn', \"mightn't\", 'mustn', \"mustn't\", 'needn', \"needn't\", 'shan', \"shan't\", 'shouldn', \"shouldn't\", 'wasn', \"wasn't\", 'weren', \"weren't\", 'won', \"won't\", 'wouldn', \"wouldn't\"]\n"
     ]
    }
   ],
   "source": [
    "print(stopwords.words('english'))"
   ]
  },
  {
   "cell_type": "code",
   "execution_count": 29,
   "metadata": {},
   "outputs": [],
   "source": [
    "stop_words = set(stopwords.words('english'))"
   ]
  },
  {
   "cell_type": "code",
   "execution_count": 30,
   "metadata": {},
   "outputs": [],
   "source": [
    "data['comments'] = data['comments'].str.strip()"
   ]
  },
  {
   "cell_type": "code",
   "execution_count": 31,
   "metadata": {},
   "outputs": [],
   "source": [
    "train = data.copy()"
   ]
  },
  {
   "cell_type": "code",
   "execution_count": 32,
   "metadata": {},
   "outputs": [],
   "source": [
    "train['comments'] = train['comments'].str.strip()"
   ]
  },
  {
   "cell_type": "code",
   "execution_count": 33,
   "metadata": {},
   "outputs": [
    {
     "data": {
      "text/plain": [
       "'got  it'"
      ]
     },
     "execution_count": 33,
     "metadata": {},
     "output_type": "execute_result"
    }
   ],
   "source": [
    "train['comments'][0]"
   ]
  },
  {
   "cell_type": "code",
   "execution_count": 34,
   "metadata": {},
   "outputs": [],
   "source": [
    "def remove_stopwords(line):\n",
    "    word_tokens = word_tokenize(line)\n",
    "    filtered_sentence = [w for w in word_tokens if not w in stop_words]\n",
    "    return \" \".join(filtered_sentence)"
   ]
  },
  {
   "cell_type": "code",
   "execution_count": 35,
   "metadata": {},
   "outputs": [],
   "source": [
    "data['stop_comments'] = data['comments'].apply(lambda x : remove_stopwords(x))"
   ]
  },
  {
   "cell_type": "code",
   "execution_count": 36,
   "metadata": {},
   "outputs": [
    {
     "data": {
      "text/html": [
       "<div>\n",
       "<style scoped>\n",
       "    .dataframe tbody tr th:only-of-type {\n",
       "        vertical-align: middle;\n",
       "    }\n",
       "\n",
       "    .dataframe tbody tr th {\n",
       "        vertical-align: top;\n",
       "    }\n",
       "\n",
       "    .dataframe thead th {\n",
       "        text-align: right;\n",
       "    }\n",
       "</style>\n",
       "<table border=\"1\" class=\"dataframe\">\n",
       "  <thead>\n",
       "    <tr style=\"text-align: right;\">\n",
       "      <th></th>\n",
       "      <th>Video ID</th>\n",
       "      <th>Comment ID</th>\n",
       "      <th>comments</th>\n",
       "      <th>polarity</th>\n",
       "      <th>pol_cat</th>\n",
       "      <th>stop_comments</th>\n",
       "    </tr>\n",
       "  </thead>\n",
       "  <tbody>\n",
       "    <tr>\n",
       "      <th>0</th>\n",
       "      <td>H5UlTdyQTng</td>\n",
       "      <td>UgxNGmG2cno9nsBFxc94AaABAg</td>\n",
       "      <td>got  it</td>\n",
       "      <td>0.0</td>\n",
       "      <td>-1</td>\n",
       "      <td>got</td>\n",
       "    </tr>\n",
       "    <tr>\n",
       "      <th>1</th>\n",
       "      <td>H5UlTdyQTng</td>\n",
       "      <td>UgyWhBPnvqKEpT2iVfl4AaABAg</td>\n",
       "      <td>don  t  let  them  vaccinate  you    they  re ...</td>\n",
       "      <td>0.0</td>\n",
       "      <td>-1</td>\n",
       "      <td>let vaccinate gon na microchip trust trusting ...</td>\n",
       "    </tr>\n",
       "    <tr>\n",
       "      <th>2</th>\n",
       "      <td>H5UlTdyQTng</td>\n",
       "      <td>UgwO59GW5HF-5b2-U-94AaABAg</td>\n",
       "      <td>this  video  is  a  sigh  of  relief</td>\n",
       "      <td>0.0</td>\n",
       "      <td>-1</td>\n",
       "      <td>video sigh relief</td>\n",
       "    </tr>\n",
       "    <tr>\n",
       "      <th>3</th>\n",
       "      <td>H5UlTdyQTng</td>\n",
       "      <td>UgxKKJ7WQs3r_s9r6d94AaABAg</td>\n",
       "      <td>when  is  our  government  going  to  show  pr...</td>\n",
       "      <td>0.0</td>\n",
       "      <td>-1</td>\n",
       "      <td>government going show proof virus existing the...</td>\n",
       "    </tr>\n",
       "    <tr>\n",
       "      <th>4</th>\n",
       "      <td>H5UlTdyQTng</td>\n",
       "      <td>Ugxq83Fxhcu-cOjRcRN4AaABAg</td>\n",
       "      <td>like  the  flu  vaccine  eradicated  flu</td>\n",
       "      <td>0.0</td>\n",
       "      <td>-1</td>\n",
       "      <td>like flu vaccine eradicated flu</td>\n",
       "    </tr>\n",
       "  </tbody>\n",
       "</table>\n",
       "</div>"
      ],
      "text/plain": [
       "      Video ID                  Comment ID  \\\n",
       "0  H5UlTdyQTng  UgxNGmG2cno9nsBFxc94AaABAg   \n",
       "1  H5UlTdyQTng  UgyWhBPnvqKEpT2iVfl4AaABAg   \n",
       "2  H5UlTdyQTng  UgwO59GW5HF-5b2-U-94AaABAg   \n",
       "3  H5UlTdyQTng  UgxKKJ7WQs3r_s9r6d94AaABAg   \n",
       "4  H5UlTdyQTng  Ugxq83Fxhcu-cOjRcRN4AaABAg   \n",
       "\n",
       "                                            comments  polarity  pol_cat  \\\n",
       "0                                            got  it       0.0       -1   \n",
       "1  don  t  let  them  vaccinate  you    they  re ...       0.0       -1   \n",
       "2               this  video  is  a  sigh  of  relief       0.0       -1   \n",
       "3  when  is  our  government  going  to  show  pr...       0.0       -1   \n",
       "4           like  the  flu  vaccine  eradicated  flu       0.0       -1   \n",
       "\n",
       "                                       stop_comments  \n",
       "0                                                got  \n",
       "1  let vaccinate gon na microchip trust trusting ...  \n",
       "2                                  video sigh relief  \n",
       "3  government going show proof virus existing the...  \n",
       "4                    like flu vaccine eradicated flu  "
      ]
     },
     "execution_count": 36,
     "metadata": {},
     "output_type": "execute_result"
    }
   ],
   "source": [
    "data.head()"
   ]
  },
  {
   "cell_type": "code",
   "execution_count": 37,
   "metadata": {},
   "outputs": [],
   "source": [
    "from sklearn.model_selection import train_test_split"
   ]
  },
  {
   "cell_type": "code",
   "execution_count": 38,
   "metadata": {},
   "outputs": [],
   "source": [
    "X_train,X_test,y_train,y_test = train_test_split(data['stop_comments'],data['pol_cat'],test_size = 0.2,random_state = 324)"
   ]
  },
  {
   "cell_type": "code",
   "execution_count": 39,
   "metadata": {},
   "outputs": [
    {
     "data": {
      "text/plain": [
       "(44,)"
      ]
     },
     "execution_count": 39,
     "metadata": {},
     "output_type": "execute_result"
    }
   ],
   "source": [
    "X_train.shape"
   ]
  },
  {
   "cell_type": "code",
   "execution_count": 40,
   "metadata": {},
   "outputs": [
    {
     "data": {
      "text/plain": [
       "(12,)"
      ]
     },
     "execution_count": 40,
     "metadata": {},
     "output_type": "execute_result"
    }
   ],
   "source": [
    "X_test.shape"
   ]
  },
  {
   "cell_type": "code",
   "execution_count": 41,
   "metadata": {},
   "outputs": [
    {
     "data": {
      "text/plain": [
       "-1    39\n",
       " 1    17\n",
       "Name: pol_cat, dtype: int64"
      ]
     },
     "execution_count": 41,
     "metadata": {},
     "output_type": "execute_result"
    }
   ],
   "source": [
    "data['pol_cat'].value_counts()"
   ]
  },
  {
   "cell_type": "code",
   "execution_count": 42,
   "metadata": {},
   "outputs": [],
   "source": [
    "# Applying Logistic Regression\n",
    "\n",
    "from sklearn.feature_extraction.text import CountVectorizer"
   ]
  },
  {
   "cell_type": "code",
   "execution_count": 43,
   "metadata": {},
   "outputs": [],
   "source": [
    "from sklearn.feature_extraction.text import CountVectorizer, TfidfVectorizer \n",
    "vect = CountVectorizer()\n",
    "tf_train = vect.fit_transform(X_train)\n",
    "tf_test = vect.transform(X_test)"
   ]
  },
  {
   "cell_type": "code",
   "execution_count": 44,
   "metadata": {},
   "outputs": [
    {
     "data": {
      "text/plain": [
       "(44, 347)"
      ]
     },
     "execution_count": 44,
     "metadata": {},
     "output_type": "execute_result"
    }
   ],
   "source": [
    "tf_train.shape"
   ]
  },
  {
   "cell_type": "code",
   "execution_count": 45,
   "metadata": {},
   "outputs": [
    {
     "name": "stdout",
     "output_type": "stream",
     "text": [
      "{'vaccine': 323, 'laaad': 146, 'stay': 274, 'home': 128, 'need': 192, 'silly': 262, 'jab': 143, 'know': 145, 'takes': 285, 'amazing': 15, 'amount': 16, 'control': 54, 'utter': 319, 'ignorance': 135, 'news': 196, 'reader': 240, 'project': 228, 'vomit': 328, 'mouths': 187, 'keeping': 144, 'straight': 278, 'face': 95, 'like': 158, 'flu': 102, 'eradicated': 86, 'planned': 218, 'everyone': 88, 'involved': 142, 'held': 126, 'accoutable': 9, 'common': 48, 'law': 149, 'people': 212, 'charge': 40, 'concent': 49, 'lab': 147, 'rats': 238, 'ready': 241, 'plss': 219, 'tell': 288, 'bill': 28, 'gates': 107, 'behind': 26, 'vaccination': 322, 'program': 227, 'announced': 17, 'could': 57, 'reduce': 242, 'world': 337, 'population': 220, 'using': 318, 'vaccines': 324, '004': 0, 'worldwide': 338, 'died': 77, 'covid': 59, 'including': 137, 'high': 127, 'false': 96, 'positives': 221, 'tested': 289, 'word': 335, 'deal': 64, 'alarms': 13, 'contract': 53, 'business': 35, 'bargain': 24, 'show': 259, 'money': 183, 'attitude': 22, 'shame': 257, 'even': 87, 'possible': 222, 'found': 104, 'cold': 45, 'first': 99, 'liker': 159, 'liers': 156, 'introduce': 141, 'start': 270, 'rioting': 244, 'demolishing': 69, 'everything': 89, 'around': 21, 'yeah': 343, 'thanks': 291, '23': 4, 'years': 344, 'old': 202, 'perfectly': 214, 'healthy': 124, 'dont': 79, '88': 7, 'wow': 342, 'two': 309, 'names': 189, 'saw': 252, 'saviours': 251, 'demons': 70, 'destroyed': 74, 'healthcare': 123, 'running': 247, 'pharmaceutical': 216, 'industry': 138, 'ones': 204, 'created': 60, 'medical': 171, 'system': 283, 'revolving': 243, 'drugs': 81, 'since': 263, 'feed': 97, 'extremely': 94, 'overpriced': 208, 'harmful': 121, 'chemically': 42, 'engineered': 83, 'substances': 280, 'designed': 72, 'heal': 122, 'worth': 340, 'sick': 261, 'clap': 44, 'parasites': 211, 'creatures': 61, 'run': 246, 'monsanto': 185, 'put': 236, 'fish': 100, 'genes': 108, 'tomatoes': 298, 'flouride': 101, 'water': 331, 'uk': 310, 'see': 255, '90': 8, 'million': 178, 'potential': 223, 'vaccinated': 321, 'trump': 304, 'hundreds': 133, 'millions': 179, 'us': 315, 'profit': 226, 'guinea': 120, 'pig': 217, 'certainly': 38, 'believe': 27, 'media': 170, 'states': 273, 'units': 313, '66': 6, 'considering': 51, 'many': 167, 'willing': 333, 'human': 131, 'rat': 237, 'wager': 329, 'funds': 106, 'going': 115, 'love': 164, 'little': 160, 'late': 148, 'lenny': 151, 'government': 118, 'proof': 229, 'virus': 327, 'existing': 92, 'thess': 293, 'tests': 290, 'bogus': 32, 'trusted': 306, 'solution': 265, 'great': 119, 'scam': 254, 'demic': 68, 'psy': 234, 'opp': 205, '2020': 3, 'depressed': 71, 'confused': 50, 'treatment': 302, 'doctors': 78, 'ny': 200, 'go': 114, 'near': 190, 'hospital': 129, 'comments': 47, 'videos': 326, 'conspiracy': 52, 'mentalists': 173, 'girl': 112, 'left': 150, '49': 5, 'one': 203, 'chance': 39, 'impress': 136, 'take': 284, 'beast': 25, 'starts': 271, 'briton': 34, 'fun': 105, 'getting': 111, 'traced': 300, 'cutting': 62, 'deals': 65, 'already': 14, 'yet': 345, 'properly': 230, 'approved': 20, 'earth': 82, 'told': 297, 'coronavirus': 56, 'coming': 46, '19': 1, 'maybe': 169, 'never': 194, 'case': 36, 'menb': 172, 'example': 90, 'took': 299, 'nearly': 191, '20': 2, 'idea': 134, 'licensed': 153, 'use': 316, 're': 239, 'expected': 93, 'gone': 117, 'safe': 249, 'developmental': 76, 'process': 225, 'months': 186, 'taking': 286, 'purposefully': 235, 'rushed': 248, 'development': 75, 'trials': 303, 'monitoring': 184, 'procedures': 224, 'wo': 334, 'protect': 231, 'exist': 91, 'however': 130, 'make': 165, 'billions': 29, 'pharma': 215, 'suits': 281, 'turn': 308, 'mind': 180, 'controlled': 55, 'zombie': 346, 'state': 272, 'stage': 269, 'genetically': 109, 'modifying': 182, 'humans': 132, 'microchipping': 177, 'things': 295, 'get': 110, 'lot': 163, 'worse': 339, 'entering': 84, 'new': 195, 'dark': 63, 'ages': 12, 'order': 206, 'ruled': 245, 'unaccountable': 311, 'entities': 85, 'despotism': 73, 'let': 152, 'vaccinate': 320, 'gon': 116, 'na': 188, 'microchip': 176, 'trust': 305, 'trusting': 307, 'stranger': 279, 've': 325, 'lied': 155, 'numbers': 199, 'deaths': 67, 'proven': 233, 'lies': 157, 'death': 66, 'percentage': 213, 'way': 332, 'lie': 154, 'mindless': 181, 'sheep': 258, 'send': 256, 'united': 312, 'technically': 287, 'advert': 11, 'someone': 266, 'mention': 174, 'heavy': 125, 'metal': 175, 'said': 250, 'anything': 19, 'filtration': 98, 'unperfect': 314, 'boo': 33, 'ow': 209, 'time': 296, 'check': 41, 'cdc': 37, 'saying': 253, 'another': 18, 'load': 161, 'spent': 268, 'something': 267, 'stock': 275, 'traders': 301, 'bad': 23, 'thing': 294, 'biotech': 30, 'stocks': 276, 'lol': 162, 'would': 341, 'works': 336, 'want': 330, 'thats': 292, 'okay': 201, 'force': 103, 'others': 207, 'inject': 140, 'body': 31, 'give': 113, 'choice': 43, 'actually': 10, 'country': 58, 'needs': 193, 'doses': 80, 'massively': 168, 'inflated': 139, 'useless': 317, 'norway': 198, 'proved': 232, 'pandemic': 210, 'shown': 260, 'sweden': 282, 'stop': 277, 'nonsense': 197, 'smell': 264, 'mandatory': 166}\n"
     ]
    }
   ],
   "source": [
    "print(vect.vocabulary_)"
   ]
  },
  {
   "cell_type": "code",
   "execution_count": 46,
   "metadata": {},
   "outputs": [],
   "source": [
    "vocab = vect.vocabulary_"
   ]
  },
  {
   "cell_type": "code",
   "execution_count": 47,
   "metadata": {},
   "outputs": [
    {
     "data": {
      "text/plain": [
       "LogisticRegression()"
      ]
     },
     "execution_count": 47,
     "metadata": {},
     "output_type": "execute_result"
    }
   ],
   "source": [
    "# import the logistic regression classifer and fit on the training dataset\n",
    "\n",
    "from sklearn.linear_model import LogisticRegression\n",
    "lr = LogisticRegression()\n",
    "lr.fit(tf_train,y_train)"
   ]
  },
  {
   "cell_type": "code",
   "execution_count": 48,
   "metadata": {},
   "outputs": [
    {
     "data": {
      "text/plain": [
       "0.9545454545454546"
      ]
     },
     "execution_count": 48,
     "metadata": {},
     "output_type": "execute_result"
    }
   ],
   "source": [
    "#Accuracy Score on Training Dataset\n",
    "\n",
    "lr.score(tf_train,y_train)"
   ]
  },
  {
   "cell_type": "code",
   "execution_count": 49,
   "metadata": {},
   "outputs": [
    {
     "data": {
      "text/plain": [
       "0.6666666666666666"
      ]
     },
     "execution_count": 49,
     "metadata": {},
     "output_type": "execute_result"
    }
   ],
   "source": [
    "# Accuracy score on test dataset i.e got from the splitting\n",
    "\n",
    "lr.score(tf_test,y_test)"
   ]
  },
  {
   "cell_type": "code",
   "execution_count": 50,
   "metadata": {},
   "outputs": [],
   "source": [
    "# Make predictions on the test dataset i.e. unseen data to the model\n",
    "\n",
    "expected = y_test\n",
    "predicted = lr.predict(tf_test)"
   ]
  },
  {
   "cell_type": "code",
   "execution_count": 51,
   "metadata": {},
   "outputs": [],
   "source": [
    "# plot confusion matrix for the test dataset\n",
    "\n",
    "from mlxtend.plotting import plot_confusion_matrix\n",
    "import matplotlib.pyplot as plt\n",
    "import numpy as np"
   ]
  },
  {
   "cell_type": "code",
   "execution_count": 52,
   "metadata": {},
   "outputs": [
    {
     "name": "stdout",
     "output_type": "stream",
     "text": [
      "[[0 4]\n",
      " [0 8]]\n"
     ]
    },
    {
     "data": {
      "image/png": "[encoded data removed]",
      "text/plain": [
       "<Figure size 432x288 with 1 Axes>"
      ]
     },
     "metadata": {
      "needs_background": "light"
     },
     "output_type": "display_data"
    }
   ],
   "source": [
    "cf = metrics.confusion_matrix(expected,predicted,labels = [1,-1])\n",
    "print(cf)\n",
    "## this command is only for google collab \n",
    "## in the below figure \" 1 is actually showing -1 and 0 is actually showing 1\"\n",
    "fig, ax = plot_confusion_matrix(conf_mat = cf)\n",
    "                                \n",
    "## It canbe used in any platform\n",
    "# fig, ax = plot_confusion_matrix(conf_mat = cf, class_names = [1,-1])\n",
    "plt.show()"
   ]
  },
  {
   "cell_type": "code",
   "execution_count": 53,
   "metadata": {},
   "outputs": [
    {
     "name": "stdout",
     "output_type": "stream",
     "text": [
      "              precision    recall  f1-score   support\n",
      "\n",
      "          -1       0.67      1.00      0.80         8\n",
      "           1       0.00      0.00      0.00         4\n",
      "\n",
      "    accuracy                           0.67        12\n",
      "   macro avg       0.33      0.50      0.40        12\n",
      "weighted avg       0.44      0.67      0.53        12\n",
      "\n"
     ]
    }
   ],
   "source": [
    "from sklearn import metrics\n",
    "print(metrics.classification_report(expected, predicted))\n",
    "# print(metrics.confusion_matrix(expected,predicted))"
   ]
  },
  {
   "cell_type": "code",
   "execution_count": 54,
   "metadata": {},
   "outputs": [
    {
     "data": {
      "text/plain": [
       "0.4"
      ]
     },
     "execution_count": 54,
     "metadata": {},
     "output_type": "execute_result"
    }
   ],
   "source": [
    "# Find the F1 score\n",
    "\n",
    "from sklearn.metrics import f1_score\n",
    "f1_score(expected, predicted, average='macro')"
   ]
  },
  {
   "cell_type": "code",
   "execution_count": null,
   "metadata": {},
   "outputs": [],
   "source": []
  }
 ],
 "metadata": {
  "kernelspec": {
   "display_name": "Python 3",
   "language": "python",
   "name": "python3"
  },
  "language_info": {
   "codemirror_mode": {
    "name": "ipython",
    "version": 3
   },
   "file_extension": ".py",
   "mimetype": "text/x-python",
   "name": "python",
   "nbconvert_exporter": "python",
   "pygments_lexer": "ipython3",
   "version": "3.7.6"
  }
 },
 "nbformat": 4,
 "nbformat_minor": 4
}
